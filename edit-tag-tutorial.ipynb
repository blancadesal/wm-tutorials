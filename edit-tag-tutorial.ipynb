{
 "cells": [
  {
   "cell_type": "markdown",
   "id": "5785866d",
   "metadata": {},
   "source": [
    "<a class=\"anchor\" id=\"top\"></a>\n",
    "# Working with Wikimedia data – an intro to Dumps & APIs\n",
    "\n",
    "## Introduction\n",
    "\n",
    "Data from Wikimedia projects is open-licenced and publicly available, and can be accessed in a variety of ways:\n",
    "\n",
    "* Data dumps in SQL or XML format\n",
    "* Database replicas thorough Toolforge, PAWS, or Quarry\n",
    "* API endpoints\n",
    "\n",
    "\n",
    "This is not an exhaustive list – additional info can be found on this [meta-wiki page](https://meta.wikimedia.org/wiki/Research:Data). Info about the database schema can be [found here](https://www.mediawiki.org/wiki/Manual:Database_layout).\n",
    "\n",
    "In this tutorial, we'll extract and combine data from the SQL and XML dumps to answer the following question: **Has editing Wikipedia pages shifted to mobile -- i.e. editing on one's mobile device instead of a desktop computer?**\n",
    "We'll also see how the same data can be accessed through the [Revisions API](https://www.mediawiki.org/wiki/API:Revisions) endpoint.\n",
    "\n",
    "Mobile edits can be identified via a specific [edit tag](https://en.wikipedia.org/wiki/Wikipedia:Tags) that is recorded with an edit, and each Wikipedia page has an edit (revision) history attached to it. Data on what tags are associated with which edits are available via [Mediawiki dumps](https://www.mediawiki.org/wiki/Manual:Change_tag_table) or the [API](https://www.mediawiki.org/wiki/API:RecentChanges).\n",
    "\n",
    "**In this tutorial, you’ll learn:**\n",
    "\n",
    "* How to access the **revision history** of Wikipedia pages through both the data dumps and the APIs\n",
    "* How to extract the revisions that match a given tag\n",
    "* How to parse Wikipedia **SQL and XML data dumps** and aggregate the data we need in a Pandas dataframe\n",
    "* How to analyze and visualize the tagged edit data"
   ]
  },
  {
   "cell_type": "markdown",
   "id": "fb0afb51",
   "metadata": {},
   "source": [
    "## Table of Contents\n",
    "   \n",
    "##### Dumps:\n",
    "1. [Accessing Tagged Edits via Dumps](#dump-access)\n",
    "##### SQL\n",
    "2. [Converting SQL data to Pandas DataFrame](#sql-to-df)\n",
    "3. [Exploring the Change Tag Dataset](#exploring-change-tag-ds)\n",
    "4. [Selecting mobile edits from the change tag dataset](#selecting-mobile-edits)\n",
    "##### XML\n",
    "5. [Working with XML dumps](#xml-dumps)\n",
    "6. [Exploring the revision history](#exploring-revision-history)\n",
    "7. [Extracting data from the revision history dump](#extracting-revision-data)\n",
    "##### API\n",
    "8. [Accessing the Edit Tag APIs](#api-access)\n",
    "##### Data Analysis & Summary\n",
    "9. [Example Analyses of Edit Tag Data](#analyses)\n",
    "10. [Summary](#summary)"
   ]
  },
  {
   "cell_type": "markdown",
   "id": "81d82788",
   "metadata": {},
   "source": [
    "<a class=\"anchor\" id=\"dump-access\"></a>\n",
    "## Accessing Tagged Edits via Dumps\n",
    "\n",
    "For the purpose of this tutorial, we'll work with data from the [Simple English Wikipedia](https://simple.wikipedia.org), an English edition of Wikipedia written in basic English aimed at people who are learning English. The **database name** for this Wikipedia is `simplewiki`. If we wanted to access data from another language version, say English or Arabic Wikipedia, the database names would be `enwiki` and `arwiki` respectively. You can find the database names for other Wikimedia projects [here](https://www.mediawiki.org/w/api.php?action=sitematrix).\n",
    "\n",
    "Every language on Wikipedia has its own [edit tag](https://en.wikipedia.org/wiki/Special:Tags) tables and [history dumps](https://dumps.wikimedia.org/archive/). In the case of Simplewiki, these can be found [here](https://dumps.wikimedia.org/simplewiki/latest/).\n",
    "\n",
    "Next, we're going to look at how we can access the files we'll need for our analyses.\n",
    "\n",
    "### Accessing data from SQL dump files\n",
    "\n",
    "The two SQL database tables we're interested in are called `change_tag_def` and `change_tag`.\n",
    "We'll use the Python [`mwsql` library](https://mwsql.readthedocs.io/en/latest/) to access the dump files from these tables."
   ]
  },
  {
   "cell_type": "code",
   "execution_count": 2,
   "id": "9ff9a7d3",
   "metadata": {},
   "outputs": [
    {
     "name": "stdout",
     "output_type": "stream",
     "text": [
      "Collecting mwsql\n",
      "  Using cached mwsql-0.1.3-py3-none-any.whl (275 kB)\n",
      "Collecting wget>=3.2\n",
      "  Using cached wget-3.2-py3-none-any.whl\n",
      "Installing collected packages: wget, mwsql\n",
      "Successfully installed mwsql-0.1.3 wget-3.2\n",
      "\u001b[33mWARNING: You are using pip version 21.1.2; however, version 21.2.4 is available.\n",
      "You should consider upgrading via the '/srv/paws/bin/python3 -m pip install --upgrade pip' command.\u001b[0m\n"
     ]
    }
   ],
   "source": [
    "# install mwsql\n",
    "!pip install mwsql"
   ]
  },
  {
   "cell_type": "code",
   "execution_count": 3,
   "id": "6fddd69a",
   "metadata": {},
   "outputs": [],
   "source": [
    "# import modules\n",
    "from mwsql import load, Dump"
   ]
  },
  {
   "cell_type": "code",
   "execution_count": 4,
   "id": "5c50331e",
   "metadata": {},
   "outputs": [
    {
     "name": "stdout",
     "output_type": "stream",
     "text": [
      "['ctd_id', 'ctd_name', 'ctd_user_defined', 'ctd_count']\n",
      "['1', 'mw-replace', '0', '10822']\n",
      "['2', 'visualeditor', '0', '313616']\n",
      "['3', 'mw-undo', '0', '61959']\n",
      "['4', 'mw-rollback', '0', '73951']\n",
      "['5', 'mobile edit', '0', '244240']\n",
      "['6', 'mobile web edit', '0', '236538']\n",
      "['7', 'very short new article', '0', '29233']\n",
      "['8', 'visualeditor-wikitext', '0', '21536']\n",
      "['9', 'mw-new-redirect', '0', '32344']\n",
      "['10', 'visualeditor-switched', '0', '18419']\n"
     ]
    }
   ],
   "source": [
    "# use the `load()` function to access the dump files. If you're in a Wikimedia hosted\n",
    "# environment such as PAWS or Toolforge, you have direct access to these files.\n",
    "# Otherwise, they will be downloaded to your current working directory.\n",
    "change_tag_def_file = load('simplewiki', 'change_tag_def')\n",
    "change_tag_file = load('simplewiki', 'change_tag')\n",
    "\n",
    "# create Dump objects from the files\n",
    "change_tag_def_dump = Dump.from_file(change_tag_def_file)\n",
    "change_tag_dump = Dump.from_file(change_tag_file)\n",
    "\n",
    "# examine the `change_tag_def` dump\n",
    "change_tag_def_dump.head()"
   ]
  },
  {
   "cell_type": "markdown",
   "id": "b0123e13",
   "metadata": {},
   "source": [
    "This dataset gives us information about all the different tags that can be applied to an edit. \n",
    "\n",
    "How do we interpret this data? Let's take the third record `['3', 'mw-undo', '0', '61959']` as an example:\n",
    "\n",
    "  * **'3'**:         unique ID for the tag \n",
    "  * **'mw-undo'**: descriptive name -- in this case, the tag is applied when an editor uses the \"mw-undo\" button to revert an edit\n",
    "  * **'0'**:         not defined by a user\n",
    "  * **'61959'**:   has been used for 61959 edits in Simple English Wikipedia\n",
    "\n",
    "For additional tags and extended descriptions on Simple English Wikipedia, see [this link](https://simple.wikipedia.org/wiki/Special:Tags). "
   ]
  },
  {
   "cell_type": "markdown",
   "id": "8f247243",
   "metadata": {},
   "source": [
    "<a class=\"anchor\" id=\"sql-to-df\"></a>\n",
    "### Converting SQL data to Pandas DataFrame\n",
    "\n",
    "We'll now read all the records from the dump into a Pandas dataframe."
   ]
  },
  {
   "cell_type": "code",
   "execution_count": 5,
   "id": "410b7ab0",
   "metadata": {},
   "outputs": [],
   "source": [
    "import numpy as np\n",
    "import pandas as pd"
   ]
  },
  {
   "cell_type": "code",
   "execution_count": 6,
   "id": "5c117581",
   "metadata": {},
   "outputs": [
    {
     "data": {
      "text/html": [
       "<div>\n",
       "<style scoped>\n",
       "    .dataframe tbody tr th:only-of-type {\n",
       "        vertical-align: middle;\n",
       "    }\n",
       "\n",
       "    .dataframe tbody tr th {\n",
       "        vertical-align: top;\n",
       "    }\n",
       "\n",
       "    .dataframe thead th {\n",
       "        text-align: right;\n",
       "    }\n",
       "</style>\n",
       "<table border=\"1\" class=\"dataframe\">\n",
       "  <thead>\n",
       "    <tr style=\"text-align: right;\">\n",
       "      <th></th>\n",
       "      <th>ctd_id</th>\n",
       "      <th>ctd_name</th>\n",
       "      <th>ctd_user_defined</th>\n",
       "      <th>ctd_count</th>\n",
       "    </tr>\n",
       "  </thead>\n",
       "  <tbody>\n",
       "    <tr>\n",
       "      <th>0</th>\n",
       "      <td>1</td>\n",
       "      <td>mw-replace</td>\n",
       "      <td>0</td>\n",
       "      <td>10822</td>\n",
       "    </tr>\n",
       "    <tr>\n",
       "      <th>1</th>\n",
       "      <td>2</td>\n",
       "      <td>visualeditor</td>\n",
       "      <td>0</td>\n",
       "      <td>313616</td>\n",
       "    </tr>\n",
       "    <tr>\n",
       "      <th>2</th>\n",
       "      <td>3</td>\n",
       "      <td>mw-undo</td>\n",
       "      <td>0</td>\n",
       "      <td>61959</td>\n",
       "    </tr>\n",
       "    <tr>\n",
       "      <th>3</th>\n",
       "      <td>4</td>\n",
       "      <td>mw-rollback</td>\n",
       "      <td>0</td>\n",
       "      <td>73951</td>\n",
       "    </tr>\n",
       "    <tr>\n",
       "      <th>4</th>\n",
       "      <td>5</td>\n",
       "      <td>mobile edit</td>\n",
       "      <td>0</td>\n",
       "      <td>244240</td>\n",
       "    </tr>\n",
       "  </tbody>\n",
       "</table>\n",
       "</div>"
      ],
      "text/plain": [
       "   ctd_id      ctd_name  ctd_user_defined  ctd_count\n",
       "0       1    mw-replace                 0      10822\n",
       "1       2  visualeditor                 0     313616\n",
       "2       3       mw-undo                 0      61959\n",
       "3       4   mw-rollback                 0      73951\n",
       "4       5   mobile edit                 0     244240"
      ]
     },
     "execution_count": 6,
     "metadata": {},
     "output_type": "execute_result"
    }
   ],
   "source": [
    "# create a generator from the rows, converting each field to the correct data type\n",
    "rows = change_tag_def_dump.rows(convert_dtypes=True)\n",
    "\n",
    "# create a DataFrame from the rows\n",
    "columns = change_tag_def_dump.col_names\n",
    "change_tag_def_df = pd.DataFrame(rows, columns=columns)\n",
    "\n",
    "# display first five records\n",
    "change_tag_def_df.head()"
   ]
  },
  {
   "cell_type": "markdown",
   "id": "eb71561c",
   "metadata": {},
   "source": [
    "The tag we are interested in is `mobile edit`. We can see that it has `ctd_id` 5. This will be useful in the next step when we filter the change tag dataset for this specific tag. \n",
    "\n",
    "Next, we'll take a look at the **change tag dataset** and convert it into a Pandas DataFrame."
   ]
  },
  {
   "cell_type": "markdown",
   "id": "32f6f382",
   "metadata": {},
   "source": [
    "<a class=\"anchor\" id=\"exploring-change-tag-ds\"></a>\n",
    "### Exploring the Change Tag Dataset"
   ]
  },
  {
   "cell_type": "code",
   "execution_count": 7,
   "id": "92c962e4",
   "metadata": {},
   "outputs": [
    {
     "name": "stdout",
     "output_type": "stream",
     "text": [
      "<class 'pandas.core.frame.DataFrame'>\n",
      "RangeIndex: 1443218 entries, 0 to 1443217\n",
      "Data columns (total 6 columns):\n",
      " #   Column     Non-Null Count    Dtype \n",
      "---  ------     --------------    ----- \n",
      " 0   ct_id      1443218 non-null  int64 \n",
      " 1   ct_rc_id   1443218 non-null  object\n",
      " 2   ct_log_id  1443218 non-null  object\n",
      " 3   ct_rev_id  1443218 non-null  object\n",
      " 4   ct_params  1443218 non-null  object\n",
      " 5   ct_tag_id  1443218 non-null  int64 \n",
      "dtypes: int64(2), object(4)\n",
      "memory usage: 66.1+ MB\n"
     ]
    },
    {
     "data": {
      "text/html": [
       "<div>\n",
       "<style scoped>\n",
       "    .dataframe tbody tr th:only-of-type {\n",
       "        vertical-align: middle;\n",
       "    }\n",
       "\n",
       "    .dataframe tbody tr th {\n",
       "        vertical-align: top;\n",
       "    }\n",
       "\n",
       "    .dataframe thead th {\n",
       "        text-align: right;\n",
       "    }\n",
       "</style>\n",
       "<table border=\"1\" class=\"dataframe\">\n",
       "  <thead>\n",
       "    <tr style=\"text-align: right;\">\n",
       "      <th></th>\n",
       "      <th>ct_id</th>\n",
       "      <th>ct_rc_id</th>\n",
       "      <th>ct_log_id</th>\n",
       "      <th>ct_rev_id</th>\n",
       "      <th>ct_params</th>\n",
       "      <th>ct_tag_id</th>\n",
       "    </tr>\n",
       "  </thead>\n",
       "  <tbody>\n",
       "    <tr>\n",
       "      <th>0</th>\n",
       "      <td>1</td>\n",
       "      <td>2515963</td>\n",
       "      <td></td>\n",
       "      <td>2489613</td>\n",
       "      <td></td>\n",
       "      <td>39</td>\n",
       "    </tr>\n",
       "    <tr>\n",
       "      <th>1</th>\n",
       "      <td>2</td>\n",
       "      <td>2518288</td>\n",
       "      <td></td>\n",
       "      <td>2491923</td>\n",
       "      <td></td>\n",
       "      <td>39</td>\n",
       "    </tr>\n",
       "    <tr>\n",
       "      <th>2</th>\n",
       "      <td>3</td>\n",
       "      <td>2518475</td>\n",
       "      <td></td>\n",
       "      <td>2492098</td>\n",
       "      <td></td>\n",
       "      <td>39</td>\n",
       "    </tr>\n",
       "    <tr>\n",
       "      <th>3</th>\n",
       "      <td>4</td>\n",
       "      <td>2518988</td>\n",
       "      <td></td>\n",
       "      <td>2492598</td>\n",
       "      <td></td>\n",
       "      <td>39</td>\n",
       "    </tr>\n",
       "    <tr>\n",
       "      <th>4</th>\n",
       "      <td>5</td>\n",
       "      <td>2522990</td>\n",
       "      <td></td>\n",
       "      <td>2496471</td>\n",
       "      <td></td>\n",
       "      <td>39</td>\n",
       "    </tr>\n",
       "  </tbody>\n",
       "</table>\n",
       "</div>"
      ],
      "text/plain": [
       "   ct_id ct_rc_id ct_log_id ct_rev_id ct_params  ct_tag_id\n",
       "0      1  2515963             2489613                   39\n",
       "1      2  2518288             2491923                   39\n",
       "2      3  2518475             2492098                   39\n",
       "3      4  2518988             2492598                   39\n",
       "4      5  2522990             2496471                   39"
      ]
     },
     "execution_count": 7,
     "metadata": {},
     "output_type": "execute_result"
    }
   ],
   "source": [
    "# create a generator from the rows, converting each field to the correct data type\n",
    "# rows = change_tag_dump.rows(convert_dtypes=True)\n",
    "rows = change_tag_dump.rows(convert_dtypes=True)\n",
    "\n",
    "# create a DataFrame from the rows\n",
    "change_tag_df = pd.DataFrame(rows, columns=change_tag_dump.col_names)\n",
    "\n",
    "# display df info\n",
    "change_tag_df.info()\n",
    "\n",
    "# inspect top rows\n",
    "change_tag_df.head()"
   ]
  },
  {
   "cell_type": "markdown",
   "id": "f822d2c2",
   "metadata": {},
   "source": [
    "We see here that there are roughly 1.4M entries in this dataset and six columns. The last one, `ct_tag_id`, is the one that relates this table to the one containing the tag description data we just explored.\n",
    "\n",
    "The first row `[1, 2515963,  , 2489613,  , 39]` can be interpreted as:\n",
    "  * **1**:         unique ID -- can be ignored\n",
    "  * **2515963**:   links to [recent changes table](https://www.mediawiki.org/wiki/Manual:Recentchanges_table#rc_id) but can be ignored for now\n",
    "  * **\\<empty>**:      doesn't link to [logging table](https://www.mediawiki.org/wiki/Manual:Logging_table#log_id)\n",
    "  * **2489613**:   revision ID of an edit that was tagged -- this will allow us to tie tags to the revision history XML dump\n",
    "  * **\\<empty>**:      additional parameters that can be ignored\n",
    "  * **39**:        the tag that was applied to edit 2489613 was #39 (which happens to be 'New user creating interrogative pages' if we check the change_tag_def table above)\n",
    "\n",
    "The columns we need are `ct_rev_id`, and `ct_tag_id` where the ID is 5 (mobile edit). In the next step, we'll subset this dataset to get only the data related to mobile edits."
   ]
  },
  {
   "cell_type": "markdown",
   "id": "e8f776c7",
   "metadata": {},
   "source": [
    "<a class=\"anchor\" id=\"selecting-mobile-edits\"></a>\n",
    "### Selecting mobile edits from the change tag dataset"
   ]
  },
  {
   "cell_type": "code",
   "execution_count": 8,
   "id": "1c9d77e8",
   "metadata": {},
   "outputs": [
    {
     "name": "stdout",
     "output_type": "stream",
     "text": [
      "<class 'pandas.core.frame.DataFrame'>\n",
      "Int64Index: 234332 entries, 4855 to 1443217\n",
      "Data columns (total 3 columns):\n",
      " #   Column     Non-Null Count   Dtype\n",
      "---  ------     --------------   -----\n",
      " 0   ct_id      234332 non-null  int64\n",
      " 1   ct_rev_id  234332 non-null  int64\n",
      " 2   ct_tag_id  234332 non-null  int64\n",
      "dtypes: int64(3)\n",
      "memory usage: 7.2 MB\n"
     ]
    }
   ],
   "source": [
    "# keep only the mobile edits\n",
    "mobile_edit_ids = change_tag_df[change_tag_df['ct_tag_id'] == 5]\n",
    "\n",
    "# clean up dataset to contain only relevant information, drop null values\n",
    "mobile_edit_ids = mobile_edit_ids.replace(r'^\\s*$', np.NaN, regex=True)  # replace empty string with np.Nan\n",
    "mobile_edit_ids = mobile_edit_ids[['ct_id', 'ct_rev_id', 'ct_tag_id']].dropna().astype('int')\n",
    "\n",
    "# as a sanity check, let's make sure all the `ct_tag_ids` have the value 5\n",
    "assert len(mobile_edit_ids) == len(mobile_edit_ids[mobile_edit_ids['ct_tag_id'] == 5])\n",
    "\n",
    "# display info\n",
    "mobile_edit_ids.info()"
   ]
  },
  {
   "cell_type": "markdown",
   "id": "2fe658fa",
   "metadata": {},
   "source": [
    "We can see that there are approximately 235k mobile edits (or that were tagged as such, at least) in the revision history of Simplewiki. The next step is to gather data about these edits from the XML revision history dump."
   ]
  },
  {
   "cell_type": "markdown",
   "id": "8d184a9d",
   "metadata": {},
   "source": [
    "<a class=\"anchor\" id=\"xml-dumps\"></a>\n",
    "## Working with XML dumps\n",
    "\n",
    "To begin, we will inspect what the top of the history dump looks like. The file we need is 'simplewiki-latest-stub-meta-history.xml.gz'. Even though it's an XML file, we can still use the convenience functions `load()` and `head()` from the `mwsql` library to open it and print the first part."
   ]
  },
  {
   "cell_type": "code",
   "execution_count": 9,
   "id": "e96edd06",
   "metadata": {},
   "outputs": [],
   "source": [
    "from mwsql import head"
   ]
  },
  {
   "cell_type": "code",
   "execution_count": 10,
   "id": "1317ca47",
   "metadata": {},
   "outputs": [
    {
     "name": "stdout",
     "output_type": "stream",
     "text": [
      "<mediawiki xmlns=\"http://www.mediawiki.org/xml/export-0.10/\" xmlns:xsi=\"http://www.w3.org/2001/XMLSchema-instance\" xsi:schemaLocation=\"http://www.mediawiki.org/xml/export-0.10/ http://www.mediawiki.org/xml/export-0.10.xsd\" version=\"0.10\" xml:lang=\"en\">\n",
      "<siteinfo>\n",
      "<sitename>Wikipedia</sitename>\n",
      "<dbname>simplewiki</dbname>\n",
      "<base>https://simple.wikipedia.org/wiki/Main_Page</base>\n",
      "<generator>MediaWiki 1.37.0-wmf.19</generator>\n",
      "<case>first-letter</case>\n",
      "<namespaces>\n",
      "<namespace key=\"-2\" case=\"first-letter\">Media</namespace>\n",
      "<namespace key=\"-1\" case=\"first-letter\">Special</namespace>\n",
      "<namespace key=\"0\" case=\"first-letter\" />\n",
      "<namespace key=\"1\" case=\"first-letter\">Talk</namespace>\n",
      "<namespace key=\"2\" case=\"first-letter\">User</namespace>\n",
      "<namespace key=\"3\" case=\"first-letter\">User talk</namespace>\n",
      "<namespace key=\"4\" case=\"first-letter\">Wikipedia</namespace>\n",
      "<namespace key=\"5\" case=\"first-letter\">Wikipedia talk</namespace>\n",
      "<namespace key=\"6\" case=\"first-letter\">File</namespace>\n",
      "<namespace key=\"7\" case=\"first-letter\">File talk</namespace>\n",
      "<namespace key=\"8\" case=\"first-letter\">MediaWiki</namespace>\n",
      "<namespace key=\"9\" case=\"first-letter\">MediaWiki talk</namespace>\n",
      "<namespace key=\"10\" case=\"first-letter\">Template</namespace>\n",
      "<namespace key=\"11\" case=\"first-letter\">Template talk</namespace>\n",
      "<namespace key=\"12\" case=\"first-letter\">Help</namespace>\n",
      "<namespace key=\"13\" case=\"first-letter\">Help talk</namespace>\n",
      "<namespace key=\"14\" case=\"first-letter\">Category</namespace>\n",
      "<namespace key=\"15\" case=\"first-letter\">Category talk</namespace>\n",
      "<namespace key=\"828\" case=\"first-letter\">Module</namespace>\n",
      "<namespace key=\"829\" case=\"first-letter\">Module talk</namespace>\n",
      "<namespace key=\"2300\" case=\"first-letter\">Gadget</namespace>\n",
      "<namespace key=\"2301\" case=\"first-letter\">Gadget talk</namespace>\n",
      "<namespace key=\"2302\" case=\"case-sensitive\">Gadget definition</namespace>\n",
      "<namespace key=\"2303\" case=\"case-sensitive\">Gadget definition talk</namespace>\n",
      "</namespaces>\n",
      "</siteinfo>\n",
      "<page>\n",
      "<title>April</title>\n",
      "<ns>0</ns>\n",
      "<id>1</id>\n",
      "<revision>\n",
      "<id>2130</id>\n",
      "<timestamp>2003-03-27T09:24:48Z</timestamp>\n",
      "<contributor>\n",
      "<username>Ams80</username>\n",
      "<id>667428</id>\n",
      "</contributor>\n",
      "<comment>Edited from English Wikipedia</comment>\n",
      "<model>wikitext</model>\n",
      "<format>text/x-wiki</format>\n",
      "<text bytes=\"724\" id=\"2130\" />\n",
      "<sha1>g1vldyqwrp9b6ot9f4t27k5n2lmibva</sha1>\n",
      "</revision>\n",
      "<revision>\n",
      "<id>4183</id>\n",
      "<parentid>2130</parentid>\n",
      "<timestamp>2003-12-23T13:23:09Z</timestamp>\n",
      "<contributor>\n",
      "<ip>193.226.99.14</ip>\n",
      "</contributor>\n",
      "<model>wikitext</model>\n",
      "<format>text/x-wiki</format>\n",
      "<text bytes=\"754\" id=\"4183\" />\n",
      "<sha1>ftj0q1qjtfcfh679tnugw3n7hyfeswv</sha1>\n",
      "</revision>\n"
     ]
    }
   ],
   "source": [
    "# load dump file\n",
    "history_dump_file = load('simplewiki', 'stub-meta-history', extension='xml')\n",
    "\n",
    "# print first part\n",
    "head(history_dump_file, 63)"
   ]
  },
  {
   "cell_type": "markdown",
   "id": "eddbcbab",
   "metadata": {},
   "source": [
    "After some metadata, we can see there is a page object with some metadata about the page,\n",
    "and then a list of revisions from oldest to newest where each revision is an edit and metadata about that edit.\n",
    "\n",
    "The start of the data for the April page above can also be viewed [here](https://simple.wikipedia.org/w/index.php?title=April&action=history), and its metadata [here](https://simple.wikipedia.org/w/index.php?title=April&action=info).\n",
    "\n",
    "We will use the `mwxml` library to parse Wikimedia XML files. This library is directly accessible from PAWS and can otherwise be installed with `pip install mwxml`. The documentation can be found [here](https://pythonhosted.org/mwxml/).\n",
    "\n",
    "We will now read the XML dump file into an `mwxml Dump` object and inspect it."
   ]
  },
  {
   "cell_type": "markdown",
   "id": "8df2228d",
   "metadata": {},
   "source": [
    "<a class=\"anchor\" id=\"exploring-revision-history\"></a>\n",
    "### Exploring the revision history"
   ]
  },
  {
   "cell_type": "code",
   "execution_count": 11,
   "id": "c4e8cc97",
   "metadata": {},
   "outputs": [
    {
     "name": "stdout",
     "output_type": "stream",
     "text": [
      "Page(id=1, title='April', namespace=0, redirect=None, restrictions=[])\n"
     ]
    }
   ],
   "source": [
    "import gzip\n",
    "from mwxml import Dump\n",
    "\n",
    "# construct dump file generator\n",
    "with gzip.open(history_dump_file) as dump_file:\n",
    "    history_dump = Dump.from_file(dump_file)\n",
    "\n",
    "# print the first page object, corresponding to the 'April' page we just saw above\n",
    "pages = history_dump.pages\n",
    "first_page = next(pages)\n",
    "print(first_page)"
   ]
  },
  {
   "cell_type": "code",
   "execution_count": 12,
   "id": "4c6108b4",
   "metadata": {},
   "outputs": [
    {
     "name": "stdout",
     "output_type": "stream",
     "text": [
      "Revision(id=2130, timestamp=Timestamp('2003-03-27T09:24:48Z'), user=User(id=667428, text='Ams80'), page=Page(id=1, title='April', namespace=0, redirect=None, restrictions=[]), minor=False, comment='Edited from English Wikipedia', text=None, bytes=724, sha1='g1vldyqwrp9b6ot9f4t27k5n2lmibva', parent_id=None, model='wikitext', format='text/x-wiki', deleted=Deleted(text=False, comment=False, user=False, restricted=None))\n",
      "\n",
      "Revision(id=4183, timestamp=Timestamp('2003-12-23T13:23:09Z'), user=User(id=None, text='193.226.99.14'), page=Page(id=1, title='April', namespace=0, redirect=None, restrictions=[]), minor=False, comment=None, text=None, bytes=754, sha1='ftj0q1qjtfcfh679tnugw3n7hyfeswv', parent_id=2130, model='wikitext', format='text/x-wiki', deleted=Deleted(text=False, comment=False, user=False, restricted=None))\n",
      "\n",
      "Revision(id=5043, timestamp=Timestamp('2004-03-08T17:09:24Z'), user=User(id=11, text='HasharBot~simplewiki'), page=Page(id=1, title='April', namespace=0, redirect=None, restrictions=[]), minor=True, comment='HasharBot - warnfile  Adding:el,eo,en,zh,ko,ca,it,cy,ga,cs,et,es,nl,pl,fr,hr,fy,de,da,hu,ja,oc,sv,sl', text=None, bytes=1113, sha1='pw5nm99ugm24euxmlq2g4t0jcmuw0zq', parent_id=4183, model='wikitext', format='text/x-wiki', deleted=Deleted(text=False, comment=False, user=False, restricted=None))\n",
      "\n"
     ]
    }
   ],
   "source": [
    "# print the first three revisions for the 'April' page\n",
    "n = 3\n",
    "for revision in first_page:\n",
    "    print(revision, end='\\n\\n')\n",
    "    n -= 1\n",
    "    if n == 0:\n",
    "        break"
   ]
  },
  {
   "cell_type": "markdown",
   "id": "31d70e90",
   "metadata": {},
   "source": [
    "Note that while the raw XML dump lists the revisions from newest to oldest, here they are returned in reverse order, from oldest to newest. \n",
    "\n",
    "Next, we will loop through the history dump and record how many mobile vs. non-mobile edits were made each year. Each `Revision` has an `id` and a `timestamp` associated. The `id` will make it possible for us to link each revision to the `mobile_edit_ids` dataframe we created earlier. We will also extract the year from the timestamp."
   ]
  },
  {
   "cell_type": "markdown",
   "id": "46212d29",
   "metadata": {},
   "source": [
    "<a class=\"anchor\" id=\"extracting-revision-data\"></a>\n",
    "### Extracting data from the revision history dump\n",
    "\n",
    "As the dump file is quite big (~470M), iterating through it may take quite a while. To speed things up a bit, we will focus only on articles and ignore talk pages, etc. You can expect this to take around 10-15 minutes."
   ]
  },
  {
   "cell_type": "code",
   "execution_count": 15,
   "id": "25c2bc89",
   "metadata": {},
   "outputs": [],
   "source": [
    "# define a funciton to extract edit data\n",
    "def get_edit_data(dump, filter_by, page_limit=None):\n",
    "    \"\"\"Extract mobile tag data by year\"\"\"\n",
    "    \n",
    "    result_dict = {}\n",
    "    n_pages = 0\n",
    "    # iterate through pages\n",
    "    for page in dump.pages:\n",
    "        # filter for articles via namespace\n",
    "        if page.namespace == 0:\n",
    "            # iterate through a page's revisions\n",
    "            n_pages += 1\n",
    "            if page_limit and n_pages >= page_limit:\n",
    "                return result_dict\n",
    "            for revision in page:\n",
    "                # get the year the revision was made\n",
    "                year = int(str(revision.timestamp)[:4])\n",
    "                if year not in result_dict:\n",
    "                    result_dict[year] = {'mobile': 0, 'non-mobile': 0}\n",
    "                # check if the revision was mobile or not\n",
    "                if revision.id in filter_by:\n",
    "                    result_dict[year]['mobile'] += 1\n",
    "                else:\n",
    "                    result_dict[year]['non-mobile'] += 1\n",
    "    return result_dict\n",
    "\n",
    "# convert revision ids to set for faster lookup\n",
    "mobile_edits = set(mobile_edit_ids['ct_rev_id'])\n",
    "\n",
    "# recreate the history dump generator as we previously used the `next` method on it.\n",
    "with gzip.open(history_dump_file) as dump_file:\n",
    "    history_dump = Dump.from_file(dump_file)\n",
    "    result_dict = get_edit_data(history_dump, mobile_edits)"
   ]
  },
  {
   "cell_type": "code",
   "execution_count": 16,
   "id": "3cc7c829",
   "metadata": {},
   "outputs": [
    {
     "data": {
      "text/plain": [
       "{2001: {'mobile': 0, 'non-mobile': 21},\n",
       " 2002: {'mobile': 0, 'non-mobile': 82},\n",
       " 2003: {'mobile': 0, 'non-mobile': 2110},\n",
       " 2004: {'mobile': 0, 'non-mobile': 15033},\n",
       " 2005: {'mobile': 0, 'non-mobile': 42946},\n",
       " 2006: {'mobile': 0, 'non-mobile': 153928},\n",
       " 2007: {'mobile': 0, 'non-mobile': 271986},\n",
       " 2008: {'mobile': 0, 'non-mobile': 387140},\n",
       " 2009: {'mobile': 0, 'non-mobile': 398010},\n",
       " 2010: {'mobile': 0, 'non-mobile': 410409},\n",
       " 2011: {'mobile': 0, 'non-mobile': 442907},\n",
       " 2012: {'mobile': 0, 'non-mobile': 549644},\n",
       " 2013: {'mobile': 623, 'non-mobile': 427940},\n",
       " 2014: {'mobile': 2264, 'non-mobile': 193420},\n",
       " 2015: {'mobile': 8866, 'non-mobile': 169773},\n",
       " 2016: {'mobile': 14273, 'non-mobile': 145720},\n",
       " 2017: {'mobile': 21987, 'non-mobile': 186184},\n",
       " 2018: {'mobile': 28107, 'non-mobile': 222837},\n",
       " 2019: {'mobile': 36107, 'non-mobile': 186409},\n",
       " 2020: {'mobile': 35233, 'non-mobile': 283901},\n",
       " 2021: {'mobile': 35508, 'non-mobile': 279865}}"
      ]
     },
     "execution_count": 16,
     "metadata": {},
     "output_type": "execute_result"
    }
   ],
   "source": [
    "# sort results by year in ascending order\n",
    "result_dict_sorted = {}\n",
    "for key, val in sorted(result_dict.items()):\n",
    "    result_dict_sorted[key] = val\n",
    "    \n",
    "result_dict_sorted"
   ]
  },
  {
   "cell_type": "markdown",
   "id": "fd346565",
   "metadata": {},
   "source": [
    "We now have the necessary data, although before moving on to the analysis, we will take a quick look at another way of accessing the revision data.\n",
    "\n",
    "Even though we substantially reduced the number of pages and revisions we had to loop through by restricting ourselves to the article namespace, the code still took a while to run. If we are interested in only a few, or a small subset of, pages, this method of accessing the data is inefficient. Is there a better way? In the next section, we will see how we can use the APIs for retrieving revision history data."
   ]
  },
  {
   "cell_type": "markdown",
   "id": "ea0f0d9a",
   "metadata": {},
   "source": [
    "<a class=\"anchor\" id=\"api-access\"></a>\n",
    "## Accessing the Edit Tag APIs\n",
    "The [Revisions API](https://www.mediawiki.org/wiki/API:Revisions) can be a much simpler way to access data about edit tags for a given article if you know what articles you are interested in and are interested in relatively few articles (e.g., hundreds or low thousands).\n",
    "\n",
    "NOTE: the APIs are up-to-date while the Mediawiki dumps are always at least several days behind -- i.e. for specific snapshots in time -- so the data you get from the Mediawiki dumps might be different from the APIs if edits have been made to a page in the intervening days.\n",
    "\n",
    "Next, we'll access the Simplewiki page [Pizza](https://simple.wikipedia.org/wiki/Pizza) by iterating through the XML dump exactly like we just did. Then, we'll retrieve the same data by using the API and compare the results.\n",
    "\n",
    "To access the APIs, we'll use the `mwapi` library. See [documentation here](https://pypi.org/project/mwapi/)."
   ]
  },
  {
   "cell_type": "code",
   "execution_count": 17,
   "id": "4787ce71",
   "metadata": {},
   "outputs": [],
   "source": [
    "import mwapi"
   ]
  },
  {
   "cell_type": "code",
   "execution_count": null,
   "id": "5df45462",
   "metadata": {},
   "outputs": [],
   "source": [
    "# define a function to extract page data\n",
    "def get_page_data(dump, filter_by, page_title, year):\n",
    "    \"\"\"Extract mobile tag data for a specific pageand year\"\"\"\n",
    "    \n",
    "    edits = {'mobile': 0, 'non-mobile': 0}\n",
    "    page_found = False\n",
    "\n",
    "    # iterate through pages\n",
    "    for page in dump.pages:\n",
    "        if page_found:\n",
    "            return edits\n",
    "        if page.title == page_title:\n",
    "            page_found = True\n",
    "            # iterate through the revisions\n",
    "            for revision in page:\n",
    "                # extract year from timestamp\n",
    "                year = int(str(revision.timestamp)[:4])\n",
    "                # filter for edits from 2020 and check if the revision was mobile\n",
    "                if year == 2020 and revision.id in filter_by:\n",
    "                    edits['mobile'] += 1\n",
    "                elif year == 2020:\n",
    "                    edits['non-mobile'] += 1\n",
    "    return edits"
   ]
  },
  {
   "cell_type": "code",
   "execution_count": 19,
   "id": "702c21b9",
   "metadata": {},
   "outputs": [
    {
     "data": {
      "text/plain": [
       "{'mobile': 4, 'non-mobile': 40}"
      ]
     },
     "execution_count": 19,
     "metadata": {},
     "output_type": "execute_result"
    }
   ],
   "source": [
    "article_title = 'Pizza'\n",
    "year = 2000\n",
    "\n",
    "# recreate history dump object from file\n",
    "with gzip.open(history_dump_file) as dump_file:\n",
    "    history_dump = Dump.from_file(dump_file)\n",
    "    edits_2000 = get_page_data(history_dump, mobile_edits, article_title, year)\n",
    "\n",
    "# display results\n",
    "edits_2000"
   ]
  },
  {
   "cell_type": "markdown",
   "id": "ac56a4f4",
   "metadata": {},
   "source": [
    "We see that there were a total of 44 revisions of the article `Pizza` made in 2020 - 4 mobile and 40 non-mobile.\n",
    "\n",
    "Now, we are going to request this information from the API. You can find info about the Revisions endpoint [here](https://www.mediawiki.org/w/api.php?action=help&modules=query%2Brevisions). For more details, check out [this link](https://www.mediawiki.org/wiki/API:Revisions)."
   ]
  },
  {
   "cell_type": "code",
   "execution_count": 21,
   "id": "97a35c27",
   "metadata": {},
   "outputs": [],
   "source": [
    "# configure API session parameters\n",
    "\n",
    "# user_agent helps identify the request if there's an issue and is best practice\n",
    "TUTORIAL_LABEL = 'Edit Tag API tutorial (mwapi)'\n",
    "\n",
    "# NOTE: it's best practice to include a contact email in user agents\n",
    "CONTACT_EMAIL = 'your@email.com'\n",
    "\n",
    "# simplewiki -> simple.wikipedia \n",
    "SITENAME = 'simple.wikipedia'\n",
    "\n",
    "# initiate API session\n",
    "session = mwapi.Session(f'https://{SITENAME}.org', user_agent='{TUTORIAL_LABEL} -- {CONTACT_EMAIL}')\n",
    "\n",
    "# define query parameters\n",
    "params = {'action': 'query',\n",
    "          'prop': 'revisions',\n",
    "          'titles': f'{article_title}',\n",
    "          'rvprop': 'timestamp|ids|user|tags',\n",
    "          'rvslots': 'main',\n",
    "          'rvlimit': 'max',\n",
    "          \"formatversion\": \"2\",\n",
    "          'format': 'json'}"
   ]
  },
  {
   "cell_type": "code",
   "execution_count": 22,
   "id": "c997cb73",
   "metadata": {},
   "outputs": [],
   "source": [
    "# get all edits (and tags) for the article 'Pizza' made in 2020 via the API\n",
    "\n",
    "# submit query\n",
    "data = session.get(params)\n",
    "\n",
    "# get revisions\n",
    "revs = data['query']['pages'][0]['revisions']\n",
    "\n",
    "# filter for 2020 revisions\n",
    "api_edits_2020 = [rev for rev in revs if '2020' in rev['timestamp']]"
   ]
  },
  {
   "cell_type": "code",
   "execution_count": 23,
   "id": "5456d5ac",
   "metadata": {},
   "outputs": [
    {
     "name": "stdout",
     "output_type": "stream",
     "text": [
      "We've retrieved a total of 44 edits for the page \"Pizza\" by using the API, of which 4 were mobile edits.\n"
     ]
    }
   ],
   "source": [
    "# examine API results and compare the number of edits from mobile\n",
    "# with the data from the Mediawiki dump\n",
    "\n",
    "mobile_api_edits_2020 = [e for e in api_edits_2020 if 'mobile edit' in e['tags']]\n",
    "total_edits = len(api_edits_2020)\n",
    "num_mobile_edits = len(mobile_api_edits_2020)\n",
    "print(f\"We've retrieved a total of {total_edits} edits for the page \\\"{article_title}\\\" by using the API, of which {num_mobile_edits} were mobile edits.\")"
   ]
  },
  {
   "cell_type": "markdown",
   "id": "92b91816",
   "metadata": {},
   "source": [
    "The results from the API are consistent with what we got earlier from the XML history dump."
   ]
  },
  {
   "cell_type": "markdown",
   "id": "6b1e651c",
   "metadata": {},
   "source": [
    "<a class=\"anchor\" id=\"analyses\"></a>\n",
    "## Example Analyses of Edit Tag Data\n",
    "Here we show some examples of things we can do with the data that we gathered about the edit tags for various Wikipedia articles.\n",
    "\n",
    "To start, we will answer the question we posed at the beginning of this tutorial: **How has mobile editing changed over the last ~20 years?** We will create a graph from the dictionary containing the results we obtained earlier from the SQL dump dataset."
   ]
  },
  {
   "cell_type": "markdown",
   "id": "d02bc761",
   "metadata": {},
   "source": [
    "### Evolution of Mobile Editing"
   ]
  },
  {
   "cell_type": "code",
   "execution_count": 26,
   "id": "b3c3e1a9",
   "metadata": {},
   "outputs": [
    {
     "data": {
      "text/plain": [
       "<AxesSubplot:>"
      ]
     },
     "execution_count": 26,
     "metadata": {},
     "output_type": "execute_result"
    },
    {
     "data": {
      "image/png": "[encoded data removed]",
      "text/plain": [
       "<Figure size 432x288 with 1 Axes>"
      ]
     },
     "metadata": {
      "needs_background": "light"
     },
     "output_type": "display_data"
    }
   ],
   "source": [
    "edit_data = pd.DataFrame.from_dict(result_dict_sorted, orient='index')\n",
    "edit_data.plot(kind='bar')"
   ]
  },
  {
   "cell_type": "markdown",
   "id": "787c9f00",
   "metadata": {},
   "source": [
    "From the graph, it looks like there were no mobile edits before 2015, although if we look at the dictionary containing the results, we can see that the first mobile edits date from 2012 - they're just too few to be visible on the scale of the graph. This is about when smartphones started becoming mainstream so it would make sense.\n",
    "\n",
    "On the non-mobile side, editing reached a peak in 2012. By then, Wikipedia had existed for ~10 years - perhaps the bulk of the editing needed had been finalized by then.\n",
    "\n",
    "Overall, even though the number of mobile edits has been increasing since the beginning, it still represents a very small proportion of the total edits."
   ]
  },
  {
   "cell_type": "markdown",
   "id": "cacb5a08",
   "metadata": {},
   "source": [
    "### Are Editors Contributing Equally? \n",
    "\n",
    "Another question we could attempt to answer with this data is how edits are distributed among Wikipedia contributors. The [Pareto principle](https://en.wikipedia.org/wiki/Pareto_principle), otherwise known as the 80/20 rule states that for many outcomes, roughly 80% of consequences come from 20% of the causes. Many natural phenomena have been shown to exhibit such a distribution and it would be interesting to see if it applies here too. In other words, **Is a small subset of Wikipedia editors contributing most of the work, or is the distribution more even?**\n",
    "\n",
    "For this analysis, we will again loop through the XML revision dump, but instead of the `year`, we will now extract the `user_ids`. To save time, we will only analyze the data from the first 2000 pages in the article namespace of Simplewiki. While this \"sampling method\" may not constitute rigorous data science, it is good enough for exploratory analysis. We will again keep track of whether the edits were tagged as mobile edits or not so that we can compare the two categories.\n",
    "\n",
    "Next, we will define a custom function to extract the data we need and use it to loop through the revisions."
   ]
  },
  {
   "cell_type": "code",
   "execution_count": 27,
   "id": "7e8d5659",
   "metadata": {},
   "outputs": [],
   "source": [
    "# define a function to extract mobile tag data by user\n",
    "def get_user_data(dump, filter_by, page_limit=None):\n",
    "    \n",
    "    result_dict = {}\n",
    "    n_pages = 0\n",
    "\n",
    "    # Iterate through pages\n",
    "    for page in dump.pages:\n",
    "        # Filter for articles via namespace\n",
    "        if page.namespace == 0:\n",
    "            n_pages += 1\n",
    "            if page_limit and n_pages >= page_limit:\n",
    "                return result_dict\n",
    "            # Iterate through a page's revisions\n",
    "            for revision in page:\n",
    "                # Extract user_id\n",
    "                if revision.user:\n",
    "                    user_id = revision.user.id\n",
    "                # Ignore anonymous users\n",
    "                if user_id is not None:\n",
    "                    if user_id not in result_dict:\n",
    "                        result_dict[user_id] = {'mobile': 0, 'non-mobile': 0}\n",
    "                    # Check if the revision was mobile or not\n",
    "                    if revision.id in filter_by:\n",
    "                        result_dict[user_id]['mobile'] += 1\n",
    "                    else:\n",
    "                        result_dict[user_id]['non-mobile'] += 1\n",
    "                    \n",
    "    return result_dict"
   ]
  },
  {
   "cell_type": "code",
   "execution_count": 28,
   "id": "a07163fb",
   "metadata": {},
   "outputs": [],
   "source": [
    "# extract user data from the dump\n",
    "with gzip.open(history_dump_file) as dump_file:\n",
    "    history_dump = Dump.from_file(dump_file)\n",
    "    result_dict = get_user_data(history_dump, filter_by=mobile_edits, page_limit=2000)"
   ]
  },
  {
   "cell_type": "code",
   "execution_count": 29,
   "id": "eccc9ef3",
   "metadata": {},
   "outputs": [],
   "source": [
    "# turn dict into pd dataframe\n",
    "user_df = pd.DataFrame.from_dict(result_dict, orient='index')\n",
    "\n",
    "# split into mobile/non_mobile dataframes\n",
    "user_df_mobile = user_df.drop('non-mobile', axis=1)\n",
    "user_df_non_mobile = user_df.drop('mobile', axis=1)\n",
    "\n",
    "# sort edits in descending order\n",
    "user_df_mobile = user_df_mobile.sort_values(by='mobile', ascending=False)\n",
    "user_df_non_mobile = user_df_non_mobile.sort_values(by='non-mobile', ascending=False)\n",
    "\n",
    "# add a column to contain cumulative percentage of edits\n",
    "user_df_mobile[\"cumulative %\"] = user_df_mobile[\"mobile\"].cumsum()/user_df[\"mobile\"].sum() * 100\n",
    "user_df_non_mobile[\"cumulative %\"] = user_df_non_mobile[\"non-mobile\"].cumsum()/user_df[\"non-mobile\"].sum() * 100\n",
    "\n",
    "# clean up the row index and labels\n",
    "# mobile df\n",
    "user_df_mobile.reset_index(level=0, inplace=True)\n",
    "user_df_mobile = user_df_mobile.rename(columns={\"mobile\": \"mobile edits\",\"index\": \"user_id\"})\n",
    "# same for non-mobile df\n",
    "user_df_non_mobile.reset_index(level=0, inplace=True)\n",
    "user_df_non_mobile = user_df_non_mobile.rename(columns={\"non-mobile\": \"non-mobile edits\", \"index\": \"user_id\"})"
   ]
  },
  {
   "cell_type": "code",
   "execution_count": 31,
   "id": "4da3e85c",
   "metadata": {},
   "outputs": [
    {
     "name": "stdout",
     "output_type": "stream",
     "text": [
      "Data from 12265 users contributing a total of 257633 non-mobile edits:\n"
     ]
    },
    {
     "data": {
      "text/html": [
       "<div>\n",
       "<style scoped>\n",
       "    .dataframe tbody tr th:only-of-type {\n",
       "        vertical-align: middle;\n",
       "    }\n",
       "\n",
       "    .dataframe tbody tr th {\n",
       "        vertical-align: top;\n",
       "    }\n",
       "\n",
       "    .dataframe thead th {\n",
       "        text-align: right;\n",
       "    }\n",
       "</style>\n",
       "<table border=\"1\" class=\"dataframe\">\n",
       "  <thead>\n",
       "    <tr style=\"text-align: right;\">\n",
       "      <th></th>\n",
       "      <th>user_id</th>\n",
       "      <th>non-mobile edits</th>\n",
       "      <th>cumulative %</th>\n",
       "    </tr>\n",
       "  </thead>\n",
       "  <tbody>\n",
       "    <tr>\n",
       "      <th>0</th>\n",
       "      <td>10515</td>\n",
       "      <td>8745</td>\n",
       "      <td>3.394363</td>\n",
       "    </tr>\n",
       "    <tr>\n",
       "      <th>1</th>\n",
       "      <td>68157</td>\n",
       "      <td>6799</td>\n",
       "      <td>6.033389</td>\n",
       "    </tr>\n",
       "    <tr>\n",
       "      <th>2</th>\n",
       "      <td>40158</td>\n",
       "      <td>6660</td>\n",
       "      <td>8.618461</td>\n",
       "    </tr>\n",
       "    <tr>\n",
       "      <th>3</th>\n",
       "      <td>1144</td>\n",
       "      <td>6267</td>\n",
       "      <td>11.050991</td>\n",
       "    </tr>\n",
       "    <tr>\n",
       "      <th>4</th>\n",
       "      <td>16695</td>\n",
       "      <td>5700</td>\n",
       "      <td>13.263441</td>\n",
       "    </tr>\n",
       "  </tbody>\n",
       "</table>\n",
       "</div>"
      ],
      "text/plain": [
       "   user_id  non-mobile edits  cumulative %\n",
       "0    10515              8745      3.394363\n",
       "1    68157              6799      6.033389\n",
       "2    40158              6660      8.618461\n",
       "3     1144              6267     11.050991\n",
       "4    16695              5700     13.263441"
      ]
     },
     "execution_count": 31,
     "metadata": {},
     "output_type": "execute_result"
    }
   ],
   "source": [
    "# finally, we can take a look at the data\n",
    "print(f\"Data from {len(user_df_non_mobile)} users contributing a total of {user_df_non_mobile['non-mobile edits'].sum()} non-mobile edits:\")\n",
    "user_df_non_mobile.head()"
   ]
  },
  {
   "cell_type": "code",
   "execution_count": 33,
   "id": "e16d3166",
   "metadata": {},
   "outputs": [
    {
     "name": "stdout",
     "output_type": "stream",
     "text": [
      "Data from 12265 users contributing a total of 4982 mobile edits:\n"
     ]
    },
    {
     "data": {
      "text/html": [
       "<div>\n",
       "<style scoped>\n",
       "    .dataframe tbody tr th:only-of-type {\n",
       "        vertical-align: middle;\n",
       "    }\n",
       "\n",
       "    .dataframe tbody tr th {\n",
       "        vertical-align: top;\n",
       "    }\n",
       "\n",
       "    .dataframe thead th {\n",
       "        text-align: right;\n",
       "    }\n",
       "</style>\n",
       "<table border=\"1\" class=\"dataframe\">\n",
       "  <thead>\n",
       "    <tr style=\"text-align: right;\">\n",
       "      <th></th>\n",
       "      <th>user_id</th>\n",
       "      <th>mobile edits</th>\n",
       "      <th>cumulative %</th>\n",
       "    </tr>\n",
       "  </thead>\n",
       "  <tbody>\n",
       "    <tr>\n",
       "      <th>0</th>\n",
       "      <td>70336</td>\n",
       "      <td>641</td>\n",
       "      <td>12.866319</td>\n",
       "    </tr>\n",
       "    <tr>\n",
       "      <th>1</th>\n",
       "      <td>768749</td>\n",
       "      <td>413</td>\n",
       "      <td>21.156162</td>\n",
       "    </tr>\n",
       "    <tr>\n",
       "      <th>2</th>\n",
       "      <td>1020280</td>\n",
       "      <td>263</td>\n",
       "      <td>26.435167</td>\n",
       "    </tr>\n",
       "    <tr>\n",
       "      <th>3</th>\n",
       "      <td>821211</td>\n",
       "      <td>150</td>\n",
       "      <td>29.446006</td>\n",
       "    </tr>\n",
       "    <tr>\n",
       "      <th>4</th>\n",
       "      <td>1055293</td>\n",
       "      <td>122</td>\n",
       "      <td>31.894821</td>\n",
       "    </tr>\n",
       "  </tbody>\n",
       "</table>\n",
       "</div>"
      ],
      "text/plain": [
       "   user_id  mobile edits  cumulative %\n",
       "0    70336           641     12.866319\n",
       "1   768749           413     21.156162\n",
       "2  1020280           263     26.435167\n",
       "3   821211           150     29.446006\n",
       "4  1055293           122     31.894821"
      ]
     },
     "execution_count": 33,
     "metadata": {},
     "output_type": "execute_result"
    }
   ],
   "source": [
    "print(f\"Data from {len(user_df_mobile)} users contributing a total of {user_df_mobile['mobile edits'].sum()} mobile edits:\")\n",
    "user_df_mobile.head()"
   ]
  },
  {
   "cell_type": "markdown",
   "id": "e436fd19",
   "metadata": {},
   "source": [
    "From the tables above, we see that there is an extreme version of the Pareto principle at work here. In fact, the 5 most productive users have single-handedly contributed over 13% of the non-mobile edits! For mobile edits, this number is even higher at around 32%. \n",
    "\n",
    "To finish our analysis, we'll segment the data from the non-mobile dataset into bins containing 20% of the users each to get a better overview of the overall distribution. The distribution of the mobile edits is too left-skewed to visualize in this way, so we'll use bins of unequal sizes instead."
   ]
  },
  {
   "cell_type": "code",
   "execution_count": 34,
   "id": "273a13d8",
   "metadata": {},
   "outputs": [
    {
     "name": "stdout",
     "output_type": "stream",
     "text": [
      "Results for non-mobile edits:\n",
      "\n",
      "(3.3930000000000002, 95.18]    20.0\n",
      "(95.18, 97.48]                 20.0\n",
      "(97.48, 98.592]                20.0\n",
      "(98.592, 99.544]               20.0\n",
      "(99.544, 100.0]                20.0\n",
      "Name: cumulative %, dtype: float64\n",
      "\n",
      "Results for mobile edits:\n",
      "\n",
      "(0, 20]       0.01\n",
      "(20, 50]      0.26\n",
      "(50, 95]      8.94\n",
      "(95, 98]      1.22\n",
      "(98, 99]      0.41\n",
      "(99, 100]    89.16\n",
      "Name: cumulative %, dtype: float64\n"
     ]
    }
   ],
   "source": [
    "# non-mobile edits\n",
    "print('Results for non-mobile edits:', end='\\n\\n')\n",
    "print(pd.qcut(user_df_non_mobile['cumulative %'], 5, duplicates='drop').value_counts(sort=False, normalize=True).mul(100).round(1), end='\\n\\n')\n",
    "\n",
    "# mobile edits\n",
    "bins = [0,20,50,95,98,99,100]\n",
    "print('Results for mobile edits:', end='\\n\\n')\n",
    "print(pd.cut(user_df_mobile['cumulative %'], bins=bins).value_counts(sort=False, normalize=True).mul(100).round(2))"
   ]
  },
  {
   "cell_type": "markdown",
   "id": "4508c3ab",
   "metadata": {},
   "source": [
    "The above results confirm our first impression – that is, a few users contribute disproportionately to the editing of Simplewiki. For non-mobile edits, we see that the top 20% of most productive editors contribute over 95% of all edits.\n",
    "\n",
    "For mobile edits, the situation is even more extreme: ~10% of the editors contribute 99% of all edits."
   ]
  },
  {
   "cell_type": "markdown",
   "id": "ef8cc36b",
   "metadata": {},
   "source": [
    "<a class=\"anchor\" id=\"summary\"></a>\n",
    "# Summary\n",
    "\n",
    "In this tutorial, we explored how to gather and analyze Wikimedia data from different sources. Specifically, we focused on the revision history of articles from the Simple English Wikipedia and counted how many mobile vs. non-mobile edits there were.\n",
    "\n",
    "From a practical point of view, we learned how to parse compressed files in SQL and XML dump format, and how to access data from the Wikimedia Revisions API.\n",
    "\n",
    "Feel free to explore this tutorial further by exploring other tags, adding visualizations, or creating other datasets from the raw data. Some suggestions for further analyses:\n",
    "\n",
    "* How many of the editors are bots vs. real people?\n",
    "* We excluded revisions made by anonymous editors when gathering the data. Would including them change the results?\n",
    "* Are mobile edits, on average, shorter than non-mobile ones?"
   ]
  }
 ],
 "metadata": {
  "kernelspec": {
   "display_name": "Python 3",
   "language": "python",
   "name": "python3"
  },
  "language_info": {
   "codemirror_mode": {
    "name": "ipython",
    "version": 3
   },
   "file_extension": ".py",
   "mimetype": "text/x-python",
   "name": "python",
   "nbconvert_exporter": "python",
   "pygments_lexer": "ipython3",
   "version": "3.8.5"
  }
 },
 "nbformat": 4,
 "nbformat_minor": 5
}
